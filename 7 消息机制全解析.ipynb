{
 "cells": [
  {
   "cell_type": "markdown",
   "metadata": {},
   "source": [
    "# 1、什么是Handler 消息传递机制\n",
    "## 1.1 Handler的组成\n",
    "* Handler: 发送消息和处理消息\n",
    "* MessageQueue: 消息队列，被Looper管理\n",
    "* Looper: 从MessageQueue中读取消息，按照消息分发机制，分配到目标Handler\n",
    "\n",
    "\n",
    "## 1.2 Handler 的使用和代码实例\n",
    "# 2、源码分析\n",
    "## 2.1 Handler 机制源码分析\n",
    "创建Handler\n",
    "* 获取Looper，获取Looper的MessageQueue\n",
    "* ThreadLocal 线程局部变量，起到线程隔离的作用，每个线程只能获取到自己的Looper。\n",
    "* Looper.myLooper 是通过Looper 中的静态变量（sThreadLocal）来得到每一个Thread 的Looper。每个Thread 的Looper都是以Looper 的静态变量sThreadLocal作为key，保存在每个线程的ThreadLocalMap中的。\n",
    "* 主线程:ActivityThread 的main方法已经自动执行了Looper.prepare方法\n",
    "* 子线程:要先执行prepare才行"
   ]
  },
  {
   "cell_type": "markdown",
   "metadata": {},
   "source": []
  }
 ],
 "metadata": {
  "language_info": {
   "name": "python"
  }
 },
 "nbformat": 4,
 "nbformat_minor": 2
}
