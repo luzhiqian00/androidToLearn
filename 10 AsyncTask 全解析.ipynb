{
 "cells": [
  {
   "cell_type": "markdown",
   "metadata": {},
   "source": [
    "# 1、AsyncTask 介绍\n",
    "* 轻量级的异步任务类，可以在线程池中执行后台任务，并将结果返回给UI线程。\n",
    "\n",
    "## 1.1 AsyncTask 的使用\n",
    "\n",
    "## 1.2 AsyncTask 的核心方法\n",
    "* onPreExecute()：在执行后台任务前，会调用此方法，在UI线程中执行，通常用于做一些准备工作。\n",
    "* doInBackground(Params... params)：在后台执行，执行任务的主体，不能在函数中进行UI操作。执行完成之后，通过return 返回结果。返回的结果在onPostExecute(Result result) 中执行。\n",
    "* onProgressUpdate(Progress... values)：在后台任务执行过程中，如果需要更新进度，可以调用publishProgress(Progress... values) 方法，最终调用onProgressUpdate(Progress... values) 方法。\n",
    "* onPostExecute(Result result)：在后台任务执行完成之后，会调用此方法，在UI线程中执行，通常用于做一些UI操作。\n",
    "\n",
    "调用顺序：onPreExecute() -> doInBackground() -> publishProgress() -> onProgressUpdate() -> onPostExecute()\n",
    "如果不需要更新进度：onPreExecute() -> doInBackground() -> onPostExecute()\n",
    "\n",
    "## 1.3 三个泛型类参数\n",
    "* Params：后台任务执行时需要传入的参数类型。\n",
    "* Progress：后台任务执行过程中，更新进度的类型。\n",
    "* Result：后台任务执行完成后，返回的结果类型。\n",
    "\n",
    "# 2、AsyncTask 使用心得\n",
    "## 2.1 AsyncTask 的使用注意事项\n",
    "* AsyncTask 必须在UI线程中创建，调用excute() 也要在UI线程中。\n",
    "* 不要手动调用onPreExecute()、doInBackground(Params... params)、onProgressUpdate(Progress... values)、onPostExecute(Result result) 方法。\n",
    "* 只有onPreExecute()、onProgressUpdate(Progress... values)、onPostExecute(Result result) 方法可以执行UI操作。\n",
    "* 一个AsyncTask 只能执行一次，如果需要执行多次，需要创建多个实例。否则会报异常。\n",
    "\n",
    "## 2.2 AsyncTask 的不足之处\n",
    "* 生命周期\n",
    " AsyncTask 不和任何组件绑定。需要在Activity 销毁时，调用cancel(boolean mayInterruptIfRunning) 方法来取消任务。\n",
    "* 内存泄漏\n",
    " 如果AsyncTask 被声明为Activity 的非静态内部类，AsyncTask 会持有Activity 的引用，如果Activity 被销毁，AsyncTask 仍然在执行，就会导致内存泄漏。\n",
    "* 结果丢失\n",
    " 如果屏幕旋转或者Activity 重建，同时之前的AsyncTask 是非静态内部类，会持有旧的Activity 的引用，这时候调用onPostExecute（）再去更新界面将不起作用。\n",
    "\n",
    "# 3、源码分析（进阶）\n",
    " 暂时不用看\n"
   ]
  },
  {
   "cell_type": "markdown",
   "metadata": {},
   "source": []
  }
 ],
 "metadata": {
  "language_info": {
   "name": "python"
  }
 },
 "nbformat": 4,
 "nbformat_minor": 2
}
