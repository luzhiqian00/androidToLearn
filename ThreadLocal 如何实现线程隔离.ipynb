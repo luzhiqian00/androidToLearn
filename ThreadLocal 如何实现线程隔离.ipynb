{
 "cells": [
  {
   "cell_type": "markdown",
   "metadata": {},
   "source": [
    "**ThreadLocal 核心概念**\n",
    "\n",
    "* **线程隔离：**\n",
    "    * `ThreadLocal` 为每个线程提供独立的变量副本，实现线程间数据隔离。\n",
    "* **ThreadLocalMap：**\n",
    "    * 每个线程拥有独立的 `ThreadLocalMap`，用于存储线程局部变量。\n",
    "    * `ThreadLocalMap`是一个hash表，key是ThreadLocal对象的弱引用，value是对应的值。\n",
    "* **类型安全：**\n",
    "    * 泛型支持，确保存储数据类型的一致性。\n",
    "\n",
    "**ThreadLocal 工作原理**\n",
    "\n",
    "1.  **赋值（set）：**\n",
    "    * 获取当前线程的 `ThreadLocalMap`。\n",
    "    * 通过 `ThreadLocal` 对象的哈希值确定存储位置，存储值。\n",
    "2.  **取值（get）：**\n",
    "    * 获取当前线程的 `ThreadLocalMap`。\n",
    "    * 通过 `ThreadLocal` 对象的哈希值查找存储位置，返回对应值。\n",
    "3.  **线程独有：**\n",
    "    * 每个线程都有属于自己的 ThreadLocalMap，并且线程之间的 ThreadLocalMap 是相互独立的。\n",
    "4.  **哈希表：**\n",
    "    * ThreadLocalMap 是一个哈希表。哈希表的键（key）是 ThreadLocal 对象的弱引用，值（value）是该线程的局部变量。\n",
    "5.  **可以保存不同类型的数据：**\n",
    "    * 由于 ThreadLocalMap 是以 ThreadLocal 对象作为键来存储值，所以它可以存储不同类型的 ThreadLocal 对象及其对应的值。\n",
    "6.  **移除（remove）：**\n",
    "    * 为了防止内存泄漏，在线程结束时，需要移除ThreadLocal中存储的变量。\n",
    "\n",
    "**ThreadLocal 应用场景**\n",
    "\n",
    "* 线程安全的数据共享。\n",
    "* 上下文信息传递（如用户 ID、事务 ID）。\n",
    "* 线程相关资源管理（如数据库连接、会话）。\n",
    "\n",
    "**ThreadLocal 注意事项**\n",
    "\n",
    "* **内存泄漏：**\n",
    "    * 使用完毕后，务必调用 `remove()` 方法清理。"
   ]
  }
 ],
 "metadata": {
  "language_info": {
   "name": "python"
  }
 },
 "nbformat": 4,
 "nbformat_minor": 2
}
